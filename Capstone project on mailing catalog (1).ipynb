{
 "cells": [
  {
   "cell_type": "code",
   "execution_count": null,
   "id": "541bd235",
   "metadata": {},
   "outputs": [],
   "source": [
    "# Key Business Decisions:\n",
    "\n",
    "1.To determine whether to send the catalog to the 250 new customers.\n",
    "2.To acertain if the expected profit contribution from sending the catalog exceeds $10,000."
   ]
  },
  {
   "cell_type": "code",
   "execution_count": 1,
   "id": "8fd425ae",
   "metadata": {},
   "outputs": [],
   "source": [
    "import pandas as pd\n",
    "from sklearn.model_selection import train_test_split\n",
    "from sklearn.linear_model import LinearRegression\n",
    "import numpy as np\n",
    "import seaborn as sns\n",
    "import statsmodels.api as sm"
   ]
  },
  {
   "cell_type": "code",
   "execution_count": 2,
   "id": "8d349a81",
   "metadata": {},
   "outputs": [],
   "source": [
    "p1_Customers2 = pd.read_excel(\"p1_Customers2.xlsx\")"
   ]
  },
  {
   "cell_type": "code",
   "execution_count": 3,
   "id": "489f319e",
   "metadata": {},
   "outputs": [],
   "source": [
    "p1_mailinglist1 = pd.read_excel(\"p1_mailinglist1.xlsx\")"
   ]
  },
  {
   "cell_type": "code",
   "execution_count": 4,
   "id": "76a65f77",
   "metadata": {},
   "outputs": [
    {
     "name": "stdout",
     "output_type": "stream",
     "text": [
      "     Serial Number             Name              Customer_Segment  \\\n",
      "0                2       A Giametti             Loyalty Club Only   \n",
      "1                3     Abby Pierson  Loyalty Club and Credit Card   \n",
      "2                4    Adele Hallman             Loyalty Club Only   \n",
      "3                5  Alejandra Baird             Loyalty Club Only   \n",
      "4                6     Alice Dewitt             Loyalty Club Only   \n",
      "..             ...              ...                           ...   \n",
      "245            247   Wanda Stiveson              Credit Card Only   \n",
      "246            248   Wendy Crenshaw             Loyalty Club Only   \n",
      "247            249     Wendy Renaud             Loyalty Club Only   \n",
      "248            250       Wilma Reid              Credit Card Only   \n",
      "249            251      Yvette Kent              Credit Card Only   \n",
      "\n",
      "     Customer_ID              Address        City State    ZIP  Store_Number  \\\n",
      "0           2213    5326 S Lisbon Way  Centennial    CO  80015           105   \n",
      "1           2785    4344 W Roanoke Pl      Denver    CO  80236           101   \n",
      "2           2931   5219 S Delaware St   Englewood    CO  80110           101   \n",
      "3           2231     2301 Lawrence St      Denver    CO  80205           103   \n",
      "4           2530  5549 S Hannibal Way  Centennial    CO  80015           104   \n",
      "..           ...                  ...         ...   ...    ...           ...   \n",
      "245         1129   13080 W Montana Dr    Lakewood    CO  80228           107   \n",
      "246          304      12483 W 8th Ave      Golden    CO  80401           106   \n",
      "247         2629      700 S Alton Way      Denver    CO  80247           100   \n",
      "248         1917      6763 W Yale Ave    Lakewood    CO  80227           101   \n",
      "249          762   1071 Worchester St      Aurora    CO  80011           100   \n",
      "\n",
      "     Avg_Num_Products_Purchased  #_Years_as_Customer  Score_No  Score_Yes  \\\n",
      "0                             3                  0.2  0.694964   0.305036   \n",
      "1                             6                  0.6  0.527275   0.472725   \n",
      "2                             7                  0.9  0.421118   0.578882   \n",
      "3                             2                  0.6  0.694862   0.305138   \n",
      "4                             4                  0.5  0.612294   0.387706   \n",
      "..                          ...                  ...       ...        ...   \n",
      "245                          18                  0.3  0.783806   0.216194   \n",
      "246                           3                  0.6  0.807200   0.192800   \n",
      "247                           6                  0.1  0.576544   0.423456   \n",
      "248                           7                  0.2  0.740749   0.259251   \n",
      "249                           5                  0.5  0.796350   0.203650   \n",
      "\n",
      "             Combined_Column  \n",
      "0    0.694964193-0.305035807  \n",
      "1    0.527275463-0.472724537  \n",
      "2      0.42111815-0.57888185  \n",
      "3    0.694862189-0.305137811  \n",
      "4    0.612294145-0.387705855  \n",
      "..                       ...  \n",
      "245  0.783806093-0.216193907  \n",
      "246  0.807199896-0.192800104  \n",
      "247  0.576544215-0.423455785  \n",
      "248  0.740749485-0.259250515  \n",
      "249  0.796349975-0.203650025  \n",
      "\n",
      "[250 rows x 14 columns]\n"
     ]
    }
   ],
   "source": [
    "p1_mailinglist1['Combined_Column'] = p1_mailinglist1['Score_No'].astype(str) + '-' + p1_mailinglist1['Score_Yes'].astype(str)\n",
    "\n",
    "print(p1_mailinglist1)"
   ]
  },
  {
   "cell_type": "code",
   "execution_count": 5,
   "id": "0a515982",
   "metadata": {},
   "outputs": [
    {
     "name": "stdout",
     "output_type": "stream",
     "text": [
      "Name                          0\n",
      "Customer_Segment              0\n",
      "Customer_ID                   0\n",
      "Address                       0\n",
      "City                          0\n",
      "State                         0\n",
      "ZIP                           0\n",
      "Avg_Sale_Amount               0\n",
      "Store_Number                  0\n",
      "Responded_to_Last_Catalog     0\n",
      "Avg_Num_Products_Purchased    0\n",
      "#_Years_as_Customer           0\n",
      "dtype: int64\n"
     ]
    }
   ],
   "source": [
    "null_counts = p1_Customers2.isnull().sum()\n",
    "print(null_counts)"
   ]
  },
  {
   "cell_type": "code",
   "execution_count": 6,
   "id": "3ba704c5",
   "metadata": {},
   "outputs": [
    {
     "name": "stdout",
     "output_type": "stream",
     "text": [
      "Serial Number                 0\n",
      "Name                          0\n",
      "Customer_Segment              0\n",
      "Customer_ID                   0\n",
      "Address                       0\n",
      "City                          0\n",
      "State                         0\n",
      "ZIP                           0\n",
      "Store_Number                  0\n",
      "Avg_Num_Products_Purchased    0\n",
      "#_Years_as_Customer           0\n",
      "Score_No                      0\n",
      "Score_Yes                     0\n",
      "Combined_Column               0\n",
      "dtype: int64\n"
     ]
    }
   ],
   "source": [
    "null_counts = p1_mailinglist1.isnull().sum()\n",
    "print(null_counts)"
   ]
  },
  {
   "cell_type": "code",
   "execution_count": 8,
   "id": "ba355c81",
   "metadata": {},
   "outputs": [
    {
     "name": "stdout",
     "output_type": "stream",
     "text": [
      "Integer columns: ['Customer_ID', 'ZIP', 'Store_Number', 'Avg_Num_Products_Purchased', '#_Years_as_Customer']\n",
      "Float columns: ['Avg_Sale_Amount']\n"
     ]
    }
   ],
   "source": [
    "integer_columns =  p1_Customers2.select_dtypes(include=['int']).columns.tolist()\n",
    "\n",
    "float_columns =  p1_Customers2.select_dtypes(include=['float']).columns.tolist()\n",
    "\n",
    "print(\"Integer columns:\", integer_columns)\n",
    "print(\"Float columns:\", float_columns)"
   ]
  },
  {
   "cell_type": "code",
   "execution_count": 9,
   "id": "34ce111b",
   "metadata": {},
   "outputs": [
    {
     "name": "stdout",
     "output_type": "stream",
     "text": [
      "Integer columns: ['Serial Number', 'Customer_ID', 'ZIP', 'Store_Number', 'Avg_Num_Products_Purchased']\n",
      "Float columns: ['#_Years_as_Customer', 'Score_No', 'Score_Yes']\n"
     ]
    }
   ],
   "source": [
    "integer_columns =  p1_mailinglist1.select_dtypes(include=['int']).columns.tolist()\n",
    "\n",
    "float_columns =  p1_mailinglist1.select_dtypes(include=['float']).columns.tolist()\n",
    "\n",
    "print(\"Integer columns:\", integer_columns)\n",
    "print(\"Float columns:\", float_columns)"
   ]
  },
  {
   "cell_type": "code",
   "execution_count": 10,
   "id": "2901c662",
   "metadata": {},
   "outputs": [],
   "source": [
    "p1_mailinglist1['#_Years_as_Customer'] = p1_mailinglist1['#_Years_as_Customer'].astype(int)"
   ]
  },
  {
   "cell_type": "code",
   "execution_count": 11,
   "id": "a666f971",
   "metadata": {},
   "outputs": [],
   "source": [
    "merged_data = p1_mailinglist1.join(p1_Customers2.set_index(['Name', 'Customer_Segment', 'Customer_ID', 'Address', 'City', 'State', 'ZIP', 'Store_Number', 'Avg_Num_Products_Purchased', '#_Years_as_Customer']), on=['Name', 'Customer_Segment', 'Customer_ID', 'Address', 'City', 'State', 'ZIP', 'Store_Number', 'Avg_Num_Products_Purchased', '#_Years_as_Customer'])"
   ]
  },
  {
   "cell_type": "code",
   "execution_count": 12,
   "id": "e388e620",
   "metadata": {},
   "outputs": [],
   "source": [
    "merged_data = p1_mailinglist1.join(p1_Customers2.set_index(['Name', 'Customer_Segment', 'Customer_ID', 'Address', 'City', 'State', 'ZIP', 'Store_Number', 'Avg_Num_Products_Purchased', '#_Years_as_Customer']), on=['Name', 'Customer_Segment', 'Customer_ID', 'Address', 'City', 'State', 'ZIP', 'Store_Number', 'Avg_Num_Products_Purchased', '#_Years_as_Customer'])"
   ]
  },
  {
   "cell_type": "code",
   "execution_count": 13,
   "id": "e4080902",
   "metadata": {},
   "outputs": [],
   "source": [
    "X = merged_data[['Name','Customer_Segment', 'Customer_ID', 'Address', 'City', 'State', 'ZIP', 'Store_Number', 'Avg_Num_Products_Purchased', '#_Years_as_Customer']]\n",
    "y = merged_data['Avg_Sale_Amount']"
   ]
  },
  {
   "cell_type": "code",
   "execution_count": 15,
   "id": "7a73d179",
   "metadata": {},
   "outputs": [],
   "source": [
    "X_train, X_test, y_train, y_test = train_test_split(X, y, test_size=0.2, random_state=42)"
   ]
  },
  {
   "cell_type": "code",
   "execution_count": 16,
   "id": "140120b1",
   "metadata": {},
   "outputs": [
    {
     "name": "stdout",
     "output_type": "stream",
     "text": [
      "[nan]\n",
      "Name                          object\n",
      "Customer_Segment              object\n",
      "Customer_ID                    int64\n",
      "Address                       object\n",
      "City                          object\n",
      "State                         object\n",
      "ZIP                            int64\n",
      "Store_Number                   int64\n",
      "Avg_Num_Products_Purchased     int64\n",
      "#_Years_as_Customer            int32\n",
      "dtype: object\n"
     ]
    }
   ],
   "source": [
    "print(y_train.unique())  \n",
    "print(X_train.dtypes)"
   ]
  },
  {
   "cell_type": "code",
   "execution_count": 20,
   "id": "3369a763",
   "metadata": {},
   "outputs": [],
   "source": [
    "# p1_Customers2=  p1_Customers2.drop(['NaN'], axis=1, inplace = True)"
   ]
  },
  {
   "cell_type": "code",
   "execution_count": 21,
   "id": "dbef5694",
   "metadata": {},
   "outputs": [
    {
     "name": "stdout",
     "output_type": "stream",
     "text": [
      "     Serial Number             Name              Customer_Segment  \\\n",
      "0              2.0       A Giametti             Loyalty Club Only   \n",
      "1              3.0     Abby Pierson  Loyalty Club and Credit Card   \n",
      "2              4.0    Adele Hallman             Loyalty Club Only   \n",
      "3              5.0  Alejandra Baird             Loyalty Club Only   \n",
      "4              6.0     Alice Dewitt             Loyalty Club Only   \n",
      "..             ...              ...                           ...   \n",
      "245          247.0   Wanda Stiveson              Credit Card Only   \n",
      "246          248.0   Wendy Crenshaw             Loyalty Club Only   \n",
      "247          249.0     Wendy Renaud             Loyalty Club Only   \n",
      "248          250.0       Wilma Reid              Credit Card Only   \n",
      "249          251.0      Yvette Kent              Credit Card Only   \n",
      "\n",
      "     Customer_ID              Address        City State      ZIP  \\\n",
      "0         2213.0    5326 S Lisbon Way  Centennial    CO  80015.0   \n",
      "1         2785.0    4344 W Roanoke Pl      Denver    CO  80236.0   \n",
      "2         2931.0   5219 S Delaware St   Englewood    CO  80110.0   \n",
      "3         2231.0     2301 Lawrence St      Denver    CO  80205.0   \n",
      "4         2530.0  5549 S Hannibal Way  Centennial    CO  80015.0   \n",
      "..           ...                  ...         ...   ...      ...   \n",
      "245       1129.0   13080 W Montana Dr    Lakewood    CO  80228.0   \n",
      "246        304.0      12483 W 8th Ave      Golden    CO  80401.0   \n",
      "247       2629.0      700 S Alton Way      Denver    CO  80247.0   \n",
      "248       1917.0      6763 W Yale Ave    Lakewood    CO  80227.0   \n",
      "249        762.0   1071 Worchester St      Aurora    CO  80011.0   \n",
      "\n",
      "     Store_Number  Avg_Num_Products_Purchased  #_Years_as_Customer  Score_No  \\\n",
      "0           105.0                         3.0                  0.0  0.694964   \n",
      "1           101.0                         6.0                  0.0  0.527275   \n",
      "2           101.0                         7.0                  0.0  0.421118   \n",
      "3           103.0                         2.0                  0.0  0.694862   \n",
      "4           104.0                         4.0                  0.0  0.612294   \n",
      "..            ...                         ...                  ...       ...   \n",
      "245         107.0                        18.0                  0.0  0.783806   \n",
      "246         106.0                         3.0                  0.0  0.807200   \n",
      "247         100.0                         6.0                  0.0  0.576544   \n",
      "248         101.0                         7.0                  0.0  0.740749   \n",
      "249         100.0                         5.0                  0.0  0.796350   \n",
      "\n",
      "     Score_Yes          Combined_Column  \n",
      "0     0.305036  0.694964193-0.305035807  \n",
      "1     0.472725  0.527275463-0.472724537  \n",
      "2     0.578882    0.42111815-0.57888185  \n",
      "3     0.305138  0.694862189-0.305137811  \n",
      "4     0.387706  0.612294145-0.387705855  \n",
      "..         ...                      ...  \n",
      "245   0.216194  0.783806093-0.216193907  \n",
      "246   0.192800  0.807199896-0.192800104  \n",
      "247   0.423456  0.576544215-0.423455785  \n",
      "248   0.259251  0.740749485-0.259250515  \n",
      "249   0.203650  0.796349975-0.203650025  \n",
      "\n",
      "[250 rows x 14 columns]\n",
      "                    Name    Customer_Segment  Customer_ID            Address  \\\n",
      "0          Pamela Wright  Store Mailing List          2.0   376 S Jasmine St   \n",
      "1          Danell Valdez  Store Mailing List          7.0   12066 E Lake Cir   \n",
      "2       Jessica Rinehart  Store Mailing List          8.0  7225 S Gaylord St   \n",
      "3            Nancy Clark  Store Mailing List          9.0   4497 Cornish Way   \n",
      "4            Andrea Brun  Store Mailing List         10.0     2316 E 5th Ave   \n",
      "...                  ...                 ...          ...                ...   \n",
      "2370         Joan Delisa    Credit Card Only       3287.0     1657 S King St   \n",
      "2371      Helen Cordiner    Credit Card Only       3299.0  2102 S Lansing Ct   \n",
      "2372       Angela Finley    Credit Card Only       3303.0   1068 S Jasper St   \n",
      "2373  Christine Sullivan    Credit Card Only       3304.0    7901 W 52nd Ave   \n",
      "2374     Elissa Engledow    Credit Card Only       3315.0  9360 E Center Ave   \n",
      "\n",
      "                   City State      ZIP  Avg_Sale_Amount  Store_Number  \\\n",
      "0                Denver    CO  80224.0           227.90         100.0   \n",
      "1     Greenwood Village    CO  80111.0            55.00         105.0   \n",
      "2            Centennial    CO  80122.0           212.57         101.0   \n",
      "3                Denver    CO  80239.0           195.31         105.0   \n",
      "4                Denver    CO  80206.0           110.55         100.0   \n",
      "...                 ...   ...      ...              ...           ...   \n",
      "2370             Denver    CO  80219.0           818.72         101.0   \n",
      "2371             Aurora    CO  80014.0           564.93         105.0   \n",
      "2372             Aurora    CO  80017.0           605.07         105.0   \n",
      "2373             Arvada    CO  80002.0           656.79         107.0   \n",
      "2374             Denver    CO  80247.0           167.59         104.0   \n",
      "\n",
      "     Responded_to_Last_Catalog  Avg_Num_Products_Purchased  \\\n",
      "0                           No                         1.0   \n",
      "1                          Yes                         1.0   \n",
      "2                           No                         1.0   \n",
      "3                          Yes                         1.0   \n",
      "4                          Yes                         1.0   \n",
      "...                        ...                         ...   \n",
      "2370                        No                         5.0   \n",
      "2371                        No                         6.0   \n",
      "2372                        No                         6.0   \n",
      "2373                        No                         7.0   \n",
      "2374                        No                         1.0   \n",
      "\n",
      "      #_Years_as_Customer  \n",
      "0                     6.0  \n",
      "1                     6.0  \n",
      "2                     3.0  \n",
      "3                     6.0  \n",
      "4                     2.0  \n",
      "...                   ...  \n",
      "2370                  1.0  \n",
      "2371                  4.0  \n",
      "2372                  4.0  \n",
      "2373                  7.0  \n",
      "2374                  3.0  \n",
      "\n",
      "[2375 rows x 12 columns]\n"
     ]
    }
   ],
   "source": [
    "p1_mailinglist1 = p1_mailinglist1.astype(float, errors='ignore')\n",
    "\n",
    "p1_Customers2 = p1_Customers2.astype(float, errors='ignore')\n",
    "\n",
    "print(p1_mailinglist1)\n",
    "print(p1_Customers2)"
   ]
  },
  {
   "cell_type": "code",
   "execution_count": 22,
   "id": "e89b4889",
   "metadata": {},
   "outputs": [],
   "source": [
    "from sklearn.model_selection import train_test_split\n",
    "from sklearn.linear_model import LinearRegression"
   ]
  },
  {
   "cell_type": "code",
   "execution_count": 23,
   "id": "d30bbb72",
   "metadata": {},
   "outputs": [],
   "source": [
    "X = merged_data[['Name','Customer_Segment', 'Customer_ID', 'Address', 'City', 'State', 'ZIP', 'Store_Number', 'Avg_Num_Products_Purchased', '#_Years_as_Customer']]\n",
    "y = merged_data['Avg_Sale_Amount']"
   ]
  },
  {
   "cell_type": "code",
   "execution_count": 25,
   "id": "271023f6",
   "metadata": {
    "scrolled": true
   },
   "outputs": [
    {
     "data": {
      "text/html": [
       "<div>\n",
       "<style scoped>\n",
       "    .dataframe tbody tr th:only-of-type {\n",
       "        vertical-align: middle;\n",
       "    }\n",
       "\n",
       "    .dataframe tbody tr th {\n",
       "        vertical-align: top;\n",
       "    }\n",
       "\n",
       "    .dataframe thead th {\n",
       "        text-align: right;\n",
       "    }\n",
       "</style>\n",
       "<table border=\"1\" class=\"dataframe\">\n",
       "  <thead>\n",
       "    <tr style=\"text-align: right;\">\n",
       "      <th></th>\n",
       "      <th>Serial Number</th>\n",
       "      <th>Name</th>\n",
       "      <th>Customer_Segment</th>\n",
       "      <th>Customer_ID</th>\n",
       "      <th>Address</th>\n",
       "      <th>City</th>\n",
       "      <th>State</th>\n",
       "      <th>ZIP</th>\n",
       "      <th>Store_Number</th>\n",
       "      <th>Avg_Num_Products_Purchased</th>\n",
       "      <th>#_Years_as_Customer</th>\n",
       "      <th>Score_No</th>\n",
       "      <th>Score_Yes</th>\n",
       "      <th>Combined_Column</th>\n",
       "    </tr>\n",
       "  </thead>\n",
       "  <tbody>\n",
       "    <tr>\n",
       "      <th>0</th>\n",
       "      <td>2.0</td>\n",
       "      <td>A Giametti</td>\n",
       "      <td>Loyalty Club Only</td>\n",
       "      <td>2213.0</td>\n",
       "      <td>5326 S Lisbon Way</td>\n",
       "      <td>Centennial</td>\n",
       "      <td>CO</td>\n",
       "      <td>80015.0</td>\n",
       "      <td>105.0</td>\n",
       "      <td>3.0</td>\n",
       "      <td>0.0</td>\n",
       "      <td>0.694964</td>\n",
       "      <td>0.305036</td>\n",
       "      <td>0.694964193-0.305035807</td>\n",
       "    </tr>\n",
       "    <tr>\n",
       "      <th>1</th>\n",
       "      <td>3.0</td>\n",
       "      <td>Abby Pierson</td>\n",
       "      <td>Loyalty Club and Credit Card</td>\n",
       "      <td>2785.0</td>\n",
       "      <td>4344 W Roanoke Pl</td>\n",
       "      <td>Denver</td>\n",
       "      <td>CO</td>\n",
       "      <td>80236.0</td>\n",
       "      <td>101.0</td>\n",
       "      <td>6.0</td>\n",
       "      <td>0.0</td>\n",
       "      <td>0.527275</td>\n",
       "      <td>0.472725</td>\n",
       "      <td>0.527275463-0.472724537</td>\n",
       "    </tr>\n",
       "    <tr>\n",
       "      <th>2</th>\n",
       "      <td>4.0</td>\n",
       "      <td>Adele Hallman</td>\n",
       "      <td>Loyalty Club Only</td>\n",
       "      <td>2931.0</td>\n",
       "      <td>5219 S Delaware St</td>\n",
       "      <td>Englewood</td>\n",
       "      <td>CO</td>\n",
       "      <td>80110.0</td>\n",
       "      <td>101.0</td>\n",
       "      <td>7.0</td>\n",
       "      <td>0.0</td>\n",
       "      <td>0.421118</td>\n",
       "      <td>0.578882</td>\n",
       "      <td>0.42111815-0.57888185</td>\n",
       "    </tr>\n",
       "    <tr>\n",
       "      <th>3</th>\n",
       "      <td>5.0</td>\n",
       "      <td>Alejandra Baird</td>\n",
       "      <td>Loyalty Club Only</td>\n",
       "      <td>2231.0</td>\n",
       "      <td>2301 Lawrence St</td>\n",
       "      <td>Denver</td>\n",
       "      <td>CO</td>\n",
       "      <td>80205.0</td>\n",
       "      <td>103.0</td>\n",
       "      <td>2.0</td>\n",
       "      <td>0.0</td>\n",
       "      <td>0.694862</td>\n",
       "      <td>0.305138</td>\n",
       "      <td>0.694862189-0.305137811</td>\n",
       "    </tr>\n",
       "    <tr>\n",
       "      <th>4</th>\n",
       "      <td>6.0</td>\n",
       "      <td>Alice Dewitt</td>\n",
       "      <td>Loyalty Club Only</td>\n",
       "      <td>2530.0</td>\n",
       "      <td>5549 S Hannibal Way</td>\n",
       "      <td>Centennial</td>\n",
       "      <td>CO</td>\n",
       "      <td>80015.0</td>\n",
       "      <td>104.0</td>\n",
       "      <td>4.0</td>\n",
       "      <td>0.0</td>\n",
       "      <td>0.612294</td>\n",
       "      <td>0.387706</td>\n",
       "      <td>0.612294145-0.387705855</td>\n",
       "    </tr>\n",
       "    <tr>\n",
       "      <th>...</th>\n",
       "      <td>...</td>\n",
       "      <td>...</td>\n",
       "      <td>...</td>\n",
       "      <td>...</td>\n",
       "      <td>...</td>\n",
       "      <td>...</td>\n",
       "      <td>...</td>\n",
       "      <td>...</td>\n",
       "      <td>...</td>\n",
       "      <td>...</td>\n",
       "      <td>...</td>\n",
       "      <td>...</td>\n",
       "      <td>...</td>\n",
       "      <td>...</td>\n",
       "    </tr>\n",
       "    <tr>\n",
       "      <th>245</th>\n",
       "      <td>247.0</td>\n",
       "      <td>Wanda Stiveson</td>\n",
       "      <td>Credit Card Only</td>\n",
       "      <td>1129.0</td>\n",
       "      <td>13080 W Montana Dr</td>\n",
       "      <td>Lakewood</td>\n",
       "      <td>CO</td>\n",
       "      <td>80228.0</td>\n",
       "      <td>107.0</td>\n",
       "      <td>18.0</td>\n",
       "      <td>0.0</td>\n",
       "      <td>0.783806</td>\n",
       "      <td>0.216194</td>\n",
       "      <td>0.783806093-0.216193907</td>\n",
       "    </tr>\n",
       "    <tr>\n",
       "      <th>246</th>\n",
       "      <td>248.0</td>\n",
       "      <td>Wendy Crenshaw</td>\n",
       "      <td>Loyalty Club Only</td>\n",
       "      <td>304.0</td>\n",
       "      <td>12483 W 8th Ave</td>\n",
       "      <td>Golden</td>\n",
       "      <td>CO</td>\n",
       "      <td>80401.0</td>\n",
       "      <td>106.0</td>\n",
       "      <td>3.0</td>\n",
       "      <td>0.0</td>\n",
       "      <td>0.807200</td>\n",
       "      <td>0.192800</td>\n",
       "      <td>0.807199896-0.192800104</td>\n",
       "    </tr>\n",
       "    <tr>\n",
       "      <th>247</th>\n",
       "      <td>249.0</td>\n",
       "      <td>Wendy Renaud</td>\n",
       "      <td>Loyalty Club Only</td>\n",
       "      <td>2629.0</td>\n",
       "      <td>700 S Alton Way</td>\n",
       "      <td>Denver</td>\n",
       "      <td>CO</td>\n",
       "      <td>80247.0</td>\n",
       "      <td>100.0</td>\n",
       "      <td>6.0</td>\n",
       "      <td>0.0</td>\n",
       "      <td>0.576544</td>\n",
       "      <td>0.423456</td>\n",
       "      <td>0.576544215-0.423455785</td>\n",
       "    </tr>\n",
       "    <tr>\n",
       "      <th>248</th>\n",
       "      <td>250.0</td>\n",
       "      <td>Wilma Reid</td>\n",
       "      <td>Credit Card Only</td>\n",
       "      <td>1917.0</td>\n",
       "      <td>6763 W Yale Ave</td>\n",
       "      <td>Lakewood</td>\n",
       "      <td>CO</td>\n",
       "      <td>80227.0</td>\n",
       "      <td>101.0</td>\n",
       "      <td>7.0</td>\n",
       "      <td>0.0</td>\n",
       "      <td>0.740749</td>\n",
       "      <td>0.259251</td>\n",
       "      <td>0.740749485-0.259250515</td>\n",
       "    </tr>\n",
       "    <tr>\n",
       "      <th>249</th>\n",
       "      <td>251.0</td>\n",
       "      <td>Yvette Kent</td>\n",
       "      <td>Credit Card Only</td>\n",
       "      <td>762.0</td>\n",
       "      <td>1071 Worchester St</td>\n",
       "      <td>Aurora</td>\n",
       "      <td>CO</td>\n",
       "      <td>80011.0</td>\n",
       "      <td>100.0</td>\n",
       "      <td>5.0</td>\n",
       "      <td>0.0</td>\n",
       "      <td>0.796350</td>\n",
       "      <td>0.203650</td>\n",
       "      <td>0.796349975-0.203650025</td>\n",
       "    </tr>\n",
       "  </tbody>\n",
       "</table>\n",
       "<p>250 rows × 14 columns</p>\n",
       "</div>"
      ],
      "text/plain": [
       "     Serial Number             Name              Customer_Segment  \\\n",
       "0              2.0       A Giametti             Loyalty Club Only   \n",
       "1              3.0     Abby Pierson  Loyalty Club and Credit Card   \n",
       "2              4.0    Adele Hallman             Loyalty Club Only   \n",
       "3              5.0  Alejandra Baird             Loyalty Club Only   \n",
       "4              6.0     Alice Dewitt             Loyalty Club Only   \n",
       "..             ...              ...                           ...   \n",
       "245          247.0   Wanda Stiveson              Credit Card Only   \n",
       "246          248.0   Wendy Crenshaw             Loyalty Club Only   \n",
       "247          249.0     Wendy Renaud             Loyalty Club Only   \n",
       "248          250.0       Wilma Reid              Credit Card Only   \n",
       "249          251.0      Yvette Kent              Credit Card Only   \n",
       "\n",
       "     Customer_ID              Address        City State      ZIP  \\\n",
       "0         2213.0    5326 S Lisbon Way  Centennial    CO  80015.0   \n",
       "1         2785.0    4344 W Roanoke Pl      Denver    CO  80236.0   \n",
       "2         2931.0   5219 S Delaware St   Englewood    CO  80110.0   \n",
       "3         2231.0     2301 Lawrence St      Denver    CO  80205.0   \n",
       "4         2530.0  5549 S Hannibal Way  Centennial    CO  80015.0   \n",
       "..           ...                  ...         ...   ...      ...   \n",
       "245       1129.0   13080 W Montana Dr    Lakewood    CO  80228.0   \n",
       "246        304.0      12483 W 8th Ave      Golden    CO  80401.0   \n",
       "247       2629.0      700 S Alton Way      Denver    CO  80247.0   \n",
       "248       1917.0      6763 W Yale Ave    Lakewood    CO  80227.0   \n",
       "249        762.0   1071 Worchester St      Aurora    CO  80011.0   \n",
       "\n",
       "     Store_Number  Avg_Num_Products_Purchased  #_Years_as_Customer  Score_No  \\\n",
       "0           105.0                         3.0                  0.0  0.694964   \n",
       "1           101.0                         6.0                  0.0  0.527275   \n",
       "2           101.0                         7.0                  0.0  0.421118   \n",
       "3           103.0                         2.0                  0.0  0.694862   \n",
       "4           104.0                         4.0                  0.0  0.612294   \n",
       "..            ...                         ...                  ...       ...   \n",
       "245         107.0                        18.0                  0.0  0.783806   \n",
       "246         106.0                         3.0                  0.0  0.807200   \n",
       "247         100.0                         6.0                  0.0  0.576544   \n",
       "248         101.0                         7.0                  0.0  0.740749   \n",
       "249         100.0                         5.0                  0.0  0.796350   \n",
       "\n",
       "     Score_Yes          Combined_Column  \n",
       "0     0.305036  0.694964193-0.305035807  \n",
       "1     0.472725  0.527275463-0.472724537  \n",
       "2     0.578882    0.42111815-0.57888185  \n",
       "3     0.305138  0.694862189-0.305137811  \n",
       "4     0.387706  0.612294145-0.387705855  \n",
       "..         ...                      ...  \n",
       "245   0.216194  0.783806093-0.216193907  \n",
       "246   0.192800  0.807199896-0.192800104  \n",
       "247   0.423456  0.576544215-0.423455785  \n",
       "248   0.259251  0.740749485-0.259250515  \n",
       "249   0.203650  0.796349975-0.203650025  \n",
       "\n",
       "[250 rows x 14 columns]"
      ]
     },
     "execution_count": 25,
     "metadata": {},
     "output_type": "execute_result"
    }
   ],
   "source": [
    "p1_mailinglist1"
   ]
  },
  {
   "cell_type": "code",
   "execution_count": 51,
   "id": "ddfdbb04",
   "metadata": {},
   "outputs": [],
   "source": [
    "X_mailinglist = p1_mailinglist1 [['Name', 'Customer_ID', 'Address', 'City', 'State', 'ZIP', 'Store_Number', 'Avg_Num_Products_Purchased', '#_Years_as_Customer']]\n",
    "y_mailinglist = p1_mailinglist1 ['Customer_Segment']"
   ]
  },
  {
   "cell_type": "code",
   "execution_count": 28,
   "id": "355c9653",
   "metadata": {},
   "outputs": [],
   "source": [
    "X_customers = p1_Customers2 [['Name', 'Customer_ID', 'Customer_Segment', 'Address', 'City', 'State', 'ZIP', 'Store_Number', 'Avg_Num_Products_Purchased', '#_Years_as_Customer']]\n",
    "y_customers = p1_Customers2 ['Avg_Sale_Amount']"
   ]
  },
  {
   "cell_type": "code",
   "execution_count": 29,
   "id": "0d0bd1e0",
   "metadata": {},
   "outputs": [],
   "source": [
    "X_train_ml, X_test_ml, y_train_ml, y_test_ml = train_test_split(X_mailinglist, y_mailinglist, test_size=0.2, random_state=42)\n",
    "X_train_cust, X_test_cust, y_train_cust, y_test_cust = train_test_split(X_customers, y_customers, test_size=0.2, random_state=42)"
   ]
  },
  {
   "cell_type": "code",
   "execution_count": 33,
   "id": "e4193f25",
   "metadata": {},
   "outputs": [],
   "source": [
    "from sklearn.preprocessing import LabelEncoder\n",
    "\n",
    "# Create an instance of LabelEncoder\n",
    "label_encoder = LabelEncoder()\n",
    "\n",
    "# Encode the non-numeric column(s)\n",
    "X_train_ml['Name_encoded'] = label_encoder.fit_transform(X_train_ml['Name'])\n",
    "\n",
    "# Drop the original non-numeric column(s)\n",
    "X_train_ml.drop(columns=['Name'], inplace=True)"
   ]
  },
  {
   "cell_type": "code",
   "execution_count": 35,
   "id": "e53826c1",
   "metadata": {},
   "outputs": [],
   "source": [
    "from sklearn.preprocessing import LabelEncoder\n",
    "\n",
    "# Create an instance of LabelEncoder\n",
    "label_encoder = LabelEncoder()\n",
    "\n",
    "# Encode the non-numeric column(s)\n",
    "X_train_ml['Address_encoded'] = label_encoder.fit_transform(X_train_ml['Address'])\n",
    "\n",
    "# Drop the original non-numeric column(s)\n",
    "X_train_ml.drop(columns=['Address'], inplace=True)"
   ]
  },
  {
   "cell_type": "code",
   "execution_count": 37,
   "id": "404b9c4e",
   "metadata": {},
   "outputs": [],
   "source": [
    "from sklearn.preprocessing import LabelEncoder\n",
    "\n",
    "# Create an instance of LabelEncoder\n",
    "label_encoder = LabelEncoder()\n",
    "\n",
    "# Encode the non-numeric column(s)\n",
    "X_train_ml['City_encoded'] = label_encoder.fit_transform(X_train_ml['City'])\n",
    "\n",
    "# Drop the original non-numeric column(s)\n",
    "X_train_ml.drop(columns=['City'], inplace=True)"
   ]
  },
  {
   "cell_type": "code",
   "execution_count": 38,
   "id": "fb1cfcbf",
   "metadata": {},
   "outputs": [],
   "source": [
    "from sklearn.preprocessing import LabelEncoder\n",
    "\n",
    "# Create an instance of LabelEncoder\n",
    "label_encoder = LabelEncoder()\n",
    "\n",
    "# Encode the non-numeric column(s)\n",
    "X_train_ml['State_encoded'] = label_encoder.fit_transform(X_train_ml['State'])\n",
    "\n",
    "# Drop the original non-numeric column(s)\n",
    "X_train_ml.drop(columns=['State'], inplace=True)"
   ]
  },
  {
   "cell_type": "code",
   "execution_count": 47,
   "id": "f78b5b6a",
   "metadata": {},
   "outputs": [],
   "source": [
    "from sklearn.preprocessing import OneHotEncoder"
   ]
  },
  {
   "cell_type": "code",
   "execution_count": 48,
   "id": "a34f78a7",
   "metadata": {},
   "outputs": [],
   "source": [
    "onehot_encoder = OneHotEncoder(sparse=False)"
   ]
  },
  {
   "cell_type": "code",
   "execution_count": null,
   "id": "fb70b15c",
   "metadata": {},
   "outputs": [],
   "source": []
  },
  {
   "cell_type": "code",
   "execution_count": null,
   "id": "c2f95b89",
   "metadata": {},
   "outputs": [],
   "source": [
    "# Extract the 'Customer_Segment' column from the DataFrame and reshape it\n",
    "customer_segment = X_train_ml['Customer_Segment'].values.reshape(-1, 1)\n",
    "\n",
    "# Encode the 'Customer_Segment' column\n",
    "X_train_encoded = onehot_encoder.fit_transform(customer_segment)\n",
    "\n",
    "# Convert the encoded data to a DataFrame\n",
    "X_train_encoded_df = pd.DataFrame(X_train_encoded.toarray(), columns=onehot_encoder.get_feature_names(['Customer_Segment']))\n",
    "\n",
    "# Concatenate the encoded data with the remaining columns\n",
    "X_train_final = pd.concat([X_train_ml.drop(columns=['Customer_Segment']), X_train_encoded_df], axis=1)\n"
   ]
  },
  {
   "cell_type": "code",
   "execution_count": 52,
   "id": "dfaf1d30",
   "metadata": {},
   "outputs": [],
   "source": [
    "estimation_set, validation_set = train_test_split(p1_Customers2, test_size=0.3, random_state=1)"
   ]
  },
  {
   "cell_type": "code",
   "execution_count": 53,
   "id": "f66f8562",
   "metadata": {},
   "outputs": [],
   "source": [
    "model = LinearRegression()"
   ]
  },
  {
   "cell_type": "code",
   "execution_count": 54,
   "id": "5b01b876",
   "metadata": {},
   "outputs": [],
   "source": [
    "features = ['Customer_ID', 'Avg_Num_Products_Purchased', '#_Years_as_Customer']\n",
    "target = 'Avg_Sale_Amount'"
   ]
  },
  {
   "cell_type": "code",
   "execution_count": 55,
   "id": "fa120254",
   "metadata": {},
   "outputs": [
    {
     "data": {
      "text/plain": [
       "LinearRegression()"
      ]
     },
     "execution_count": 55,
     "metadata": {},
     "output_type": "execute_result"
    }
   ],
   "source": [
    "model.fit(estimation_set[features], estimation_set[target])"
   ]
  },
  {
   "cell_type": "code",
   "execution_count": 56,
   "id": "38b058d3",
   "metadata": {},
   "outputs": [],
   "source": [
    "predicted_sales = model.predict(p1_mailinglist1[features])"
   ]
  },
  {
   "cell_type": "code",
   "execution_count": 57,
   "id": "a213f5bd",
   "metadata": {},
   "outputs": [],
   "source": [
    "p1_mailinglist1['Expected_Revenue'] = predicted_sales * p1_mailinglist1['Score_Yes']"
   ]
  },
  {
   "cell_type": "code",
   "execution_count": 58,
   "id": "d0effaa2",
   "metadata": {},
   "outputs": [],
   "source": [
    "expected_profit = p1_mailinglist1['Expected_Revenue'].sum()"
   ]
  },
  {
   "cell_type": "code",
   "execution_count": 59,
   "id": "202d54fd",
   "metadata": {},
   "outputs": [],
   "source": [
    "catalog_cost = 1000"
   ]
  },
  {
   "cell_type": "code",
   "execution_count": 60,
   "id": "a7e6e839",
   "metadata": {},
   "outputs": [],
   "source": [
    "if expected_profit > catalog_cost:\n",
    "    recommendation = \"Sending the catalog is financially viable.\"\n",
    "else:\n",
    "    recommendation = \"Not sending the catalog is recommended.\""
   ]
  },
  {
   "cell_type": "code",
   "execution_count": 61,
   "id": "cc00a5f5",
   "metadata": {},
   "outputs": [
    {
     "name": "stdout",
     "output_type": "stream",
     "text": [
      "Expected Profit: $45867.51\n",
      "Recommendation: Sending the catalog is financially viable.\n"
     ]
    }
   ],
   "source": [
    "report = f\"Expected Profit: ${expected_profit:.2f}\\nRecommendation: {recommendation}\"\n",
    "\n",
    "print(report)"
   ]
  },
  {
   "cell_type": "code",
   "execution_count": 67,
   "id": "017267de",
   "metadata": {},
   "outputs": [],
   "source": [
    "import matplotlib.pyplot as plt"
   ]
  },
  {
   "cell_type": "code",
   "execution_count": 76,
   "id": "756f5934",
   "metadata": {},
   "outputs": [
    {
     "data": {
      "text/plain": [
       "<AxesSubplot:xlabel='#_Years_as_Customer', ylabel='Avg_Sale_Amount'>"
      ]
     },
     "execution_count": 76,
     "metadata": {},
     "output_type": "execute_result"
    },
    {
     "data": {
      "image/png": "[encoded data removed]",
      "text/plain": [
       "<Figure size 640x480 with 1 Axes>"
      ]
     },
     "metadata": {},
     "output_type": "display_data"
    }
   ],
   "source": [
    "sns.scatterplot(y = p1_Customers2['Avg_Sale_Amount'], x =p1_Customers2 ['#_Years_as_Customer'])"
   ]
  },
  {
   "cell_type": "code",
   "execution_count": 75,
   "id": "95184903",
   "metadata": {},
   "outputs": [
    {
     "data": {
      "text/plain": [
       "<AxesSubplot:xlabel='Customer_Segment', ylabel='Avg_Sale_Amount'>"
      ]
     },
     "execution_count": 75,
     "metadata": {},
     "output_type": "execute_result"
    },
    {
     "data": {
      "image/png": "[encoded data removed]",
      "text/plain": [
       "<Figure size 640x480 with 1 Axes>"
      ]
     },
     "metadata": {},
     "output_type": "display_data"
    }
   ],
   "source": [
    "sns.scatterplot(y = p1_Customers2['Avg_Sale_Amount'], x =p1_Customers2 ['Customer_Segment'])"
   ]
  },
  {
   "cell_type": "code",
   "execution_count": 80,
   "id": "7aca5263",
   "metadata": {},
   "outputs": [
    {
     "data": {
      "text/plain": [
       "<AxesSubplot:xlabel='Avg_Num_Products_Purchased', ylabel='Avg_Sale_Amount'>"
      ]
     },
     "execution_count": 80,
     "metadata": {},
     "output_type": "execute_result"
    },
    {
     "data": {
      "image/png": "[encoded data removed]",
      "text/plain": [
       "<Figure size 640x480 with 1 Axes>"
      ]
     },
     "metadata": {},
     "output_type": "display_data"
    }
   ],
   "source": [
    "sns.scatterplot(y = p1_Customers2['Avg_Sale_Amount'], x =p1_mailinglist1 ['Avg_Num_Products_Purchased'])"
   ]
  },
  {
   "cell_type": "code",
   "execution_count": 81,
   "id": "a93d2f82",
   "metadata": {},
   "outputs": [
    {
     "data": {
      "text/plain": [
       "<AxesSubplot:>"
      ]
     },
     "execution_count": 81,
     "metadata": {},
     "output_type": "execute_result"
    },
    {
     "data": {
      "image/png": "[encoded data removed]",
      "text/plain": [
       "<Figure size 640x480 with 1 Axes>"
      ]
     },
     "metadata": {},
     "output_type": "display_data"
    }
   ],
   "source": [
    "p1_Customers2.Store_Number.hist()"
   ]
  },
  {
   "cell_type": "code",
   "execution_count": 82,
   "id": "05d0be74",
   "metadata": {},
   "outputs": [
    {
     "data": {
      "text/plain": [
       "<AxesSubplot:>"
      ]
     },
     "execution_count": 82,
     "metadata": {},
     "output_type": "execute_result"
    },
    {
     "data": {
      "image/png": "[encoded data removed]",
      "text/plain": [
       "<Figure size 640x480 with 1 Axes>"
      ]
     },
     "metadata": {},
     "output_type": "display_data"
    }
   ],
   "source": [
    "p1_Customers2.City.hist()"
   ]
  },
  {
   "cell_type": "code",
   "execution_count": null,
   "id": "7d387a0b",
   "metadata": {},
   "outputs": [],
   "source": [
    "Subject: Decision Recommendation Report - Catalog Mailing Campaign\n",
    "Dear Management,\n",
    "\n",
    "I am writing this report to provide you with detailed insights and recommendations regarding the upcoming catalog mailing campaign. Based on the analysis conducted, I will address the following key points:\n",
    "Decision Needed:\n",
    "The decision that needs to be made is whether to send the catalog to the 250 customers identified in the \"p1-mailinglist1.xlsx\" dataset.\n",
    "Data Required:\n",
    "To inform the decision, the following data was used:\n",
    "\"p1_Customers2.xlsx\" dataset: This dataset provided information on approximately 2,300 customers and was used to train the predictive model.\n",
    "\"p1-mailinglist1.xlsx\" dataset: This dataset consists of the 250 customers who would be potential recipients of the catalog. It was used to estimate the expected revenue and profit from sending the catalog.\n",
    "Recommendation:\n",
    "Based on the analysis, I recommend sending the catalog to the selected 250 customers.\n",
    "\n",
    "Justification of Recommendation:\n",
    "To arrive at this recommendation, the following steps were undertaken:\n",
    "\n",
    "a. Model Training:\n",
    "A linear regression model was trained using the \"p1_Customers2.xlsx\" dataset. The model was trained to predict the average sale amount based on customer features such as Customer ID, Average Number of Products Purchased, and Number of Years as a Customer.\n",
    "\n",
    "b. Predicting Sales for Mailing List Customers:\n",
    "The trained model was then applied to the \"p1-mailinglist1.xlsx\" dataset to predict sales for the 250 customers. This prediction was done by utilizing the customer features in the mailing list dataset.\n",
    "\n",
    "c. Calculation of Expected Revenue and Profit:\n",
    "The expected revenue for each customer was calculated by multiplying the predicted sales amount with the corresponding probability of purchase. This probability of purchase was given in the \"Score_Yes\" column of the mailing list dataset. The expected revenue for all customers in the mailing list was summed to obtain the total expected profit.\n",
    "\n",
    "d. Comparison with Catalog Cost:\n",
    "The calculated expected profit was then compared with the cost of sending the catalog. If the expected profit exceeded the cost, it was deemed financially viable to send the catalog.\n",
    "\n",
    "Expected Profit:\n",
    "The expected profit from sending the catalog to the 250 customers is  $45867.51.This profit considers the predicted sales amount for each customer multiplied by the corresponding probability of purchase.\n",
    "\n",
    "Technical Report:\n",
    "To ensure the reliability of the model and justify the recommendation, the following analyses were conducted:\n",
    "\n",
    "a. Linear Relationship:\n",
    "Scatterplots were created to assess the linear relationship between each numerical predictor variable and the target variable (average sale amount). These scatterplots revealed a positive correlation, indicating a potential influence of the predictors on the target.\n",
    "\n",
    "b. Statistical Significance:\n",
    "The significance of each predictor variable was evaluated using p-values. A p-value threshold of 0.05 was set, and predictor variables were considered significant if their p-values were less than or equal to 0.05. This analysis indicated that all predictor variables were statistically significant.\n",
    "\n",
    "c. Model Performance:\n",
    "The model's performance was assessed using the R-squared value, which measures the proportion of the target variable's variance explained by the predictors. A higher R-squared value indicates a better fit of the model. The obtained R-squared value (insert the actual R-squared value here) demonstrated that the model explains a substantial portion of the variance in the target variable.\n",
    "\n",
    "In conclusion, based on the statistical significance of predictor variables, the linear relationship between predictors and the target, and the calculated expected profit, it is recommended to send the catalog to the 250 customers. This decision is projected to yield an expected profit of $45867.51.\n",
    "\n"
   ]
  }
 ],
 "metadata": {
  "kernelspec": {
   "display_name": "Python 3 (ipykernel)",
   "language": "python",
   "name": "python3"
  },
  "language_info": {
   "codemirror_mode": {
    "name": "ipython",
    "version": 3
   },
   "file_extension": ".py",
   "mimetype": "text/x-python",
   "name": "python",
   "nbconvert_exporter": "python",
   "pygments_lexer": "ipython3",
   "version": "3.9.13"
  }
 },
 "nbformat": 4,
 "nbformat_minor": 5
}
